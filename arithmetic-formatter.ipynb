{
 "cells": [
  {
   "cell_type": "markdown",
   "id": "1e8d5614-f95d-410d-9aba-3c695a402379",
   "metadata": {},
   "source": [
    "# FreeCodeCamp Certification Test 1: Build an Arithmetic Formatter Project"
   ]
  },
  {
   "cell_type": "code",
   "execution_count": 2,
   "id": "2834446d-e865-4ffc-b5c4-f3f3bf676fd7",
   "metadata": {},
   "outputs": [],
   "source": [
    "def arithmetic_arranger(problems, show_answers=False):\n",
    "    # Check if the number of problems exceeds the limit\n",
    "    if len(problems) > 5:\n",
    "        return 'Error: Too many problems.'\n",
    "\n",
    "    # Initialize lists to store parts of the arranged problems\n",
    "    upperPart = []\n",
    "    lowerPart = []\n",
    "    dashedPart = []\n",
    "    totalNums = []\n",
    "    \n",
    "    for problem in problems:\n",
    "        # Split each problem into components\n",
    "        problem_split = problem.split()\n",
    "        upperNums = problem_split[0]\n",
    "        lowerNums = problem_split[2]\n",
    "        operation = problem_split[1]\n",
    "\n",
    "        # Validate the numbers and operator\n",
    "        if not upperNums.isdigit() or not lowerNums.isdigit():\n",
    "            return 'Error: Numbers must only contain digits.'\n",
    "        elif len(upperNums) > 4 or len(lowerNums) > 4:\n",
    "            return 'Error: Numbers cannot be more than four digits.'\n",
    "        else:\n",
    "            if operation not in [\"+\", \"-\"]:\n",
    "                return \"Error: Operator must be '+' or '-'.\"\n",
    "            else:\n",
    "                # Calculate the maximum length of the numbers\n",
    "                maxLenght = max(len(upperNums), len(lowerNums))\n",
    "                # Create the dashed line\n",
    "                striped = \"-\" * (2 + maxLenght)\n",
    "\n",
    "                # Arrange the parts of the problem\n",
    "                if len(upperPart) == 0 and len(lowerPart) == 0:\n",
    "                    upperPart.append(upperNums.rjust(2 + maxLenght))\n",
    "                    lowerPart.append(operation + lowerNums.rjust(1 + maxLenght))\n",
    "                    dashedPart.append(striped)\n",
    "                    if operation == '+':\n",
    "                        totalNums.append(str(int(upperNums) + int(lowerNums)).rjust(2 + maxLenght))\n",
    "                    else:\n",
    "                        totalNums.append(str(int(upperNums) - int(lowerNums)).rjust(2 + maxLenght))\n",
    "                else:\n",
    "                    upperPart.append(\"    \" + upperNums.rjust(2 + maxLenght))\n",
    "                    lowerPart.append(\"    \" + operation.ljust(0) + lowerNums.rjust(1 + maxLenght))\n",
    "                    dashedPart.append(\"    \" + striped.rjust(2 + maxLenght))\n",
    "                    if operation == '+':\n",
    "                        totalNums.append(\"    \" + str(int(upperNums) + int(lowerNums)).rjust(2 + maxLenght))\n",
    "                    else:\n",
    "                        totalNums.append(\"    \" + str(int(upperNums) - int(lowerNums)).rjust(2 + maxLenght))\n",
    "\n",
    "    # Combine the arranged parts into the final result\n",
    "    result = f'{\"\".join(upperPart)}\\n{\"\".join(lowerPart)}\\n{\"\".join(dashedPart)}'\n",
    "    if show_answers:\n",
    "        return f'{result}\\n{\"\".join(totalNums)}'\n",
    "    return result"
   ]
  },
  {
   "cell_type": "code",
   "execution_count": 3,
   "id": "7d68476c-515e-435f-95ad-7a33c227009e",
   "metadata": {},
   "outputs": [
    {
     "name": "stdout",
     "output_type": "stream",
     "text": [
      "   32      3801      45      123\n",
      "+ 698    -    2    + 43    +  49\n",
      "-----    ------    ----    -----\n"
     ]
    }
   ],
   "source": [
    "print(arithmetic_arranger([\"32 + 698\", \"3801 - 2\", \"45 + 43\", \"123 + 49\"]))"
   ]
  }
 ],
 "metadata": {
  "kernelspec": {
   "display_name": "Python 3 (ipykernel)",
   "language": "python",
   "name": "python3"
  },
  "language_info": {
   "codemirror_mode": {
    "name": "ipython",
    "version": 3
   },
   "file_extension": ".py",
   "mimetype": "text/x-python",
   "name": "python",
   "nbconvert_exporter": "python",
   "pygments_lexer": "ipython3",
   "version": "3.11.0"
  }
 },
 "nbformat": 4,
 "nbformat_minor": 5
}
