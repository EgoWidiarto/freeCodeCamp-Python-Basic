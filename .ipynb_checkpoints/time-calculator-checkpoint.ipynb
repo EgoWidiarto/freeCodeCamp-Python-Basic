{
 "cells": [
  {
   "cell_type": "markdown",
   "id": "ec0a021c-20e1-4aa6-9dd5-deaa7b3c62b7",
   "metadata": {},
   "source": [
    "# FreeCodeCamp Certification Test 2: Build Time Calculator Project"
   ]
  },
  {
   "cell_type": "code",
   "execution_count": 2,
   "id": "ec48b490-3d0b-4e9b-95e0-5e79c445c448",
   "metadata": {},
   "outputs": [],
   "source": [
    "def add_time(start, duration, day=None):\n",
    "    startHour, startTime = map(int, start[:-3].split(':'))\n",
    "    am_pm = start[-2:]\n",
    "    durationHour, durationMinute = map(int, duration.split(':'))\n",
    "\n",
    "    if am_pm == 'PM':\n",
    "        startHour += 12\n",
    "\n",
    "    totalMinutes = startHour * 60 + startTime + durationHour * 60 + durationMinute\n",
    "    nextDay = ''\n",
    "\n",
    "    # Calculate new day, hour and minute\n",
    "    newHours = totalMinutes // 60\n",
    "    new_minute = totalMinutes % 60\n",
    "    totalDay = totalMinutes // (60 * 24)\n",
    "\n",
    "    # Convert Hour format from 24hours to AM/PM\n",
    "    if newHours > 24:\n",
    "        newHours %= 24\n",
    "        if totalDay == 1:\n",
    "            nextDay = f'(next day)'\n",
    "        else:\n",
    "            nextDay = f'({totalDay} days later)'\n",
    "    new_am_pm = 'AM' if newHours < 12 else 'PM'\n",
    "    if newHours > 12:\n",
    "        newHours -= 12\n",
    "    elif newHours <= 0:\n",
    "        newHours += 12\n",
    "\n",
    "    result = f'{newHours}:{new_minute:02d} {new_am_pm}'\n",
    "    \n",
    "    weekDays = ['Sunday', 'Monday', 'Tuesday', 'Wednesday', 'Thursday', 'Friday', 'Saturday']\n",
    "    if day:\n",
    "        dayIndex = weekDays.index(day.lower().capitalize())\n",
    "        newDays = weekDays[(dayIndex + totalDay) % 7]\n",
    "        result += f', {newDays}'\n",
    "    if nextDay:\n",
    "        result += f' {nextDay}'\n",
    "\n",
    "    return result"
   ]
  },
  {
   "cell_type": "code",
   "execution_count": 3,
   "id": "7f2b03fa-d6be-4b3a-bdae-91a4d883da27",
   "metadata": {},
   "outputs": [
    {
     "name": "stdout",
     "output_type": "stream",
     "text": [
      "6:18 AM, Monday (20 days later)\n"
     ]
    }
   ],
   "source": [
    "print(add_time('8:16 PM', '466:02', 'tuesday'))"
   ]
  }
 ],
 "metadata": {
  "kernelspec": {
   "display_name": "Python 3 (ipykernel)",
   "language": "python",
   "name": "python3"
  },
  "language_info": {
   "codemirror_mode": {
    "name": "ipython",
    "version": 3
   },
   "file_extension": ".py",
   "mimetype": "text/x-python",
   "name": "python",
   "nbconvert_exporter": "python",
   "pygments_lexer": "ipython3",
   "version": "3.11.0"
  }
 },
 "nbformat": 4,
 "nbformat_minor": 5
}
