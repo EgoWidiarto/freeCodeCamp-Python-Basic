{
 "cells": [
  {
   "cell_type": "markdown",
   "id": "c742da2f-9350-4ef8-8b42-e2197a96c23d",
   "metadata": {},
   "source": [
    "# FreeCodeCamp Certification Test 5: Build a Probability Calculator Projectr\r\n"
   ]
  },
  {
   "cell_type": "code",
   "execution_count": 4,
   "id": "8cb314be-14f2-46ae-904b-c3c6f2856c83",
   "metadata": {},
   "outputs": [],
   "source": [
    "import copy\n",
    "import random\n",
    "\n",
    "class Hat:\n",
    "    def __init__(self, **kwargs):\n",
    "        # Initialize the hat with balls of different colors and quantities\n",
    "        self.contents = []\n",
    "        for color, count in kwargs.items():\n",
    "            self.contents.extend([color] * count)\n",
    "\n",
    "    def draw(self, ball_count):\n",
    "        # Draw a specified number of balls from the hat\n",
    "        if ball_count > len(self.contents):\n",
    "            # If the number of balls to draw exceeds the available balls, draw all remaining balls\n",
    "            contents = self.contents[:]\n",
    "            self.contents.clear()\n",
    "            return contents\n",
    "        # Randomly select the specified number of balls\n",
    "        ball_drawn = random.sample(self.contents, ball_count)\n",
    "        for ball in ball_drawn:\n",
    "            self.contents.remove(ball)\n",
    "        return ball_drawn\n",
    "\n",
    "def experiment(hat, expected_balls, num_balls_drawn, num_experiments):\n",
    "    # Conduct an experiment to determine the probability of drawing the expected balls\n",
    "    succes_count = 0\n",
    "\n",
    "    for _ in range(num_experiments):\n",
    "        # Create a deep copy of the hat to ensure the original hat remains unchanged\n",
    "        hat_copy = copy.deepcopy(hat)\n",
    "\n",
    "        # Draw the specified number of balls from the copied hat\n",
    "        balls_drawn = hat_copy.draw(num_balls_drawn)\n",
    "\n",
    "        # Count the number of each color drawn\n",
    "        balls_count = {}\n",
    "        for ball in balls_drawn:\n",
    "            if ball in balls_count:\n",
    "                balls_count[ball] += 1\n",
    "            else:\n",
    "                balls_count[ball] = 1\n",
    "\n",
    "        # Check if the drawn balls meet the expected criteria\n",
    "        success = True\n",
    "        for color, count in expected_balls.items():\n",
    "            if balls_count.get(color, 0) < count:\n",
    "                success = False\n",
    "                break\n",
    "\n",
    "        if success:\n",
    "            succes_count += 1\n",
    "\n",
    "    # Calculate the probability of success\n",
    "    result = succes_count / num_experiments\n",
    "    return result"
   ]
  },
  {
   "cell_type": "code",
   "execution_count": 5,
   "id": "342b7320-6445-49dc-971b-926ad6777979",
   "metadata": {},
   "outputs": [
    {
     "name": "stdout",
     "output_type": "stream",
     "text": [
      "0.537\n"
     ]
    }
   ],
   "source": [
    "hat = Hat(black=6, red=4, green=3)\n",
    "probability = experiment(hat=hat,\n",
    "                  expected_balls={'red': 2, 'green': 1},\n",
    "                  num_balls_drawn=6,\n",
    "                  num_experiments=2000)\n",
    "print(probability)"
   ]
  }
 ],
 "metadata": {
  "kernelspec": {
   "display_name": "Python 3 (ipykernel)",
   "language": "python",
   "name": "python3"
  },
  "language_info": {
   "codemirror_mode": {
    "name": "ipython",
    "version": 3
   },
   "file_extension": ".py",
   "mimetype": "text/x-python",
   "name": "python",
   "nbconvert_exporter": "python",
   "pygments_lexer": "ipython3",
   "version": "3.11.0"
  }
 },
 "nbformat": 4,
 "nbformat_minor": 5
}
