{
 "cells": [
  {
   "cell_type": "markdown",
   "id": "9b95258e-0654-4187-a531-eda71205ee96",
   "metadata": {},
   "source": [
    "# Scientific Computing with Python (Beta): Part 2"
   ]
  },
  {
   "cell_type": "markdown",
   "id": "fabe94bd-a08e-4b50-a276-feaecc6d6ee5",
   "metadata": {},
   "source": [
    "## Learn Algorithm Design by Building a Shortest Path Algorithm"
   ]
  },
  {
   "cell_type": "code",
   "execution_count": 1,
   "id": "a49ef997-1d4f-45dc-a784-a6aff778fa33",
   "metadata": {},
   "outputs": [],
   "source": [
    "my_graph = {\n",
    "    'A': [('B', 5), ('C', 3), ('E', 11)],\n",
    "    'B': [('A', 5), ('C', 1), ('F', 2)],\n",
    "    'C': [('A', 3), ('B', 1), ('D', 1), ('E', 5)],\n",
    "    'D': [('C', 1), ('E', 9), ('F', 3)],\n",
    "    'E': [('A', 11), ('C', 5), ('D', 9)],\n",
    "    'F': [('B', 2), ('D', 3)]\n",
    "}"
   ]
  },
  {
   "cell_type": "code",
   "execution_count": 2,
   "id": "d6eed2a0-9bba-4bc4-b736-694c31ab438a",
   "metadata": {},
   "outputs": [
    {
     "name": "stdout",
     "output_type": "stream",
     "text": [
      "\n",
      "A-B distance: 4\n",
      "Path: A -> C -> B\n",
      "\n",
      "A-C distance: 3\n",
      "Path: A -> C\n",
      "\n",
      "A-D distance: 4\n",
      "Path: A -> C -> D\n",
      "\n",
      "A-E distance: 8\n",
      "Path: A -> C -> E\n",
      "\n",
      "A-F distance: 6\n",
      "Path: A -> C -> B -> F\n"
     ]
    },
    {
     "data": {
      "text/plain": [
       "({'A': 0, 'B': 4, 'C': 3, 'D': 4, 'E': 8, 'F': 6},\n",
       " {'A': ['A'],\n",
       "  'B': ['A', 'C', 'B'],\n",
       "  'C': ['A', 'C'],\n",
       "  'D': ['A', 'C', 'D'],\n",
       "  'E': ['A', 'C', 'E'],\n",
       "  'F': ['A', 'C', 'B', 'F']})"
      ]
     },
     "execution_count": 2,
     "metadata": {},
     "output_type": "execute_result"
    }
   ],
   "source": [
    "def shortest_path(graph, start, target = ''):\n",
    "    unvisited = list(graph)\n",
    "    distances = {node: 0 if node == start else float('inf') for node in graph}\n",
    "    paths = {node: [] for node in graph}\n",
    "    paths[start].append(start)\n",
    "    \n",
    "    while unvisited:\n",
    "        current = min(unvisited, key=distances.get)\n",
    "        for node, distance in graph[current]:\n",
    "            if distance + distances[current] < distances[node]:\n",
    "                distances[node] = distance + distances[current]\n",
    "                if paths[node] and paths[node][-1] == node:\n",
    "                    paths[node] = paths[current][:]\n",
    "                else:\n",
    "                    paths[node].extend(paths[current])\n",
    "                paths[node].append(node)\n",
    "        unvisited.remove(current)\n",
    "\n",
    "    targets_to_print = [target] if target else graph\n",
    "    for node in targets_to_print:\n",
    "        if node == start:\n",
    "            continue\n",
    "        print(f'\\n{start}-{node} distance: {distances[node]}\\nPath: {\" -> \".join(paths[node])}')\n",
    "    \n",
    "    return distances, paths\n",
    "shortest_path(my_graph, 'A')"
   ]
  },
  {
   "cell_type": "markdown",
   "id": "85a3ae05-d6f5-4eb4-a6d4-1b73ab2b1542",
   "metadata": {},
   "source": [
    "## Learning Recursion by Solving the Hanoi Puzzle"
   ]
  },
  {
   "cell_type": "markdown",
   "id": "7321c28f-844b-44e9-9c77-d18fd6f75f18",
   "metadata": {},
   "source": [
    "### Iterative Version of Hanoi Puzzle"
   ]
  },
  {
   "cell_type": "code",
   "execution_count": 3,
   "id": "2709774b-9a13-441b-9e02-572869e19850",
   "metadata": {},
   "outputs": [],
   "source": [
    "NUMBER_OF_DISKS = 3\n",
    "number_of_moves = 2 ** NUMBER_OF_DISKS - 1\n",
    "rods = {\n",
    "    'A': list(range(NUMBER_OF_DISKS, 0, -1)),\n",
    "    'B': [],\n",
    "    'C': []\n",
    "}\n",
    "\n",
    "def make_allowed_move(rod1, rod2):    \n",
    "    forward = False\n",
    "    if not rods[rod2]:\n",
    "        forward = True\n",
    "    elif rods[rod1] and rods[rod1][-1] < rods[rod2][-1]:\n",
    "        forward = True              \n",
    "    if forward:\n",
    "        print(f'Moving disk {rods[rod1][-1]} from {rod1} to {rod2}')\n",
    "        rods[rod2].append(rods[rod1].pop())\n",
    "    else:\n",
    "        print(f'Moving disk {rods[rod2][-1]} from {rod2} to {rod1}')\n",
    "        rods[rod1].append(rods[rod2].pop())\n",
    "    \n",
    "    # display our progress\n",
    "    print(rods, '\\n')"
   ]
  },
  {
   "cell_type": "code",
   "execution_count": 4,
   "id": "a38315a3-36d9-45a8-bfab-fdb3dd89dfa0",
   "metadata": {},
   "outputs": [
    {
     "name": "stdout",
     "output_type": "stream",
     "text": [
      "{'A': [3, 2, 1], 'B': [], 'C': []} \n",
      "\n",
      "Move 1 allowed between A and C\n",
      "Moving disk 1 from A to C\n",
      "{'A': [3, 2], 'B': [], 'C': [1]} \n",
      "\n",
      "Move 2 allowed between A and B\n",
      "Moving disk 2 from A to B\n",
      "{'A': [3], 'B': [2], 'C': [1]} \n",
      "\n",
      "Move 3 allowed between B and C\n",
      "Moving disk 1 from C to B\n",
      "{'A': [3], 'B': [2, 1], 'C': []} \n",
      "\n",
      "Move 4 allowed between A and C\n",
      "Moving disk 3 from A to C\n",
      "{'A': [], 'B': [2, 1], 'C': [3]} \n",
      "\n",
      "Move 5 allowed between A and B\n",
      "Moving disk 1 from B to A\n",
      "{'A': [1], 'B': [2], 'C': [3]} \n",
      "\n",
      "Move 6 allowed between B and C\n",
      "Moving disk 2 from B to C\n",
      "{'A': [1], 'B': [], 'C': [3, 2]} \n",
      "\n",
      "Move 7 allowed between A and C\n",
      "Moving disk 1 from A to C\n",
      "{'A': [], 'B': [], 'C': [3, 2, 1]} \n",
      "\n"
     ]
    }
   ],
   "source": [
    "def move(n, source, auxiliary, target):\n",
    "    # display starting configuration\n",
    "    print(rods, '\\n')\n",
    "    for i in range(number_of_moves):\n",
    "        remainder = (i + 1) % 3\n",
    "        if remainder == 1:\n",
    "            if n % 2 != 0:\n",
    "                print(f'Move {i + 1} allowed between {source} and {target}')\n",
    "                make_allowed_move(source, target)\n",
    "            else:\n",
    "                print(f'Move {i + 1} allowed between {source} and {auxiliary}')\n",
    "                make_allowed_move(source, auxiliary)\n",
    "        elif remainder == 2:\n",
    "            if n % 2 != 0:\n",
    "                print(f'Move {i + 1} allowed between {source} and {auxiliary}')\n",
    "                make_allowed_move(source, auxiliary)\n",
    "            else:\n",
    "                print(f'Move {i + 1} allowed between {source} and {target}')\n",
    "                make_allowed_move(source, target)\n",
    "        elif remainder == 0:\n",
    "            print(f'Move {i + 1} allowed between {auxiliary} and {target}')\n",
    "            make_allowed_move(auxiliary, target)           \n",
    "\n",
    "# initiate call from source A to target C with auxiliary B\n",
    "move(NUMBER_OF_DISKS, 'A', 'B', 'C')"
   ]
  },
  {
   "cell_type": "markdown",
   "id": "e4e322b2-b2ee-48be-805f-6e02ed380153",
   "metadata": {},
   "source": [
    "### Recursive Version of Hanoi Puzzle"
   ]
  },
  {
   "cell_type": "code",
   "execution_count": 2,
   "id": "0ff9f1df-20a9-4505-b99b-dafd7d200933",
   "metadata": {},
   "outputs": [
    {
     "name": "stdout",
     "output_type": "stream",
     "text": [
      "[3, 2] [] [1] \n",
      "\n",
      "[3] [2] [1] \n",
      "\n",
      "[3] [2, 1] [] \n",
      "\n",
      "[] [2, 1] [3] \n",
      "\n",
      "[1] [2] [3] \n",
      "\n",
      "[1] [] [3, 2] \n",
      "\n",
      "[] [] [3, 2, 1] \n",
      "\n"
     ]
    }
   ],
   "source": [
    "NUMBER_OF_DISKS = 3\n",
    "A = list(range(NUMBER_OF_DISKS, 0, -1))\n",
    "B = []\n",
    "C = []\n",
    "\n",
    "def move(n, source, auxiliary, target):\n",
    "    if n <= 0:\n",
    "        return\n",
    "    # move n - 1 disks from source to auxiliary, so they are out of the way\n",
    "    move(n - 1, source, target, auxiliary)\n",
    "        \n",
    "    # move the nth disk from source to target\n",
    "    target.append(source.pop())\n",
    "        \n",
    "    # display our progress\n",
    "    print(A, B, C, '\\n')\n",
    "        \n",
    "    # move the n - 1 disks that we left on auxiliary onto target\n",
    "    move(n - 1,  auxiliary, source, target)\n",
    "              \n",
    "# initiate call from source A to target C with auxiliary B\n",
    "move(NUMBER_OF_DISKS, A, B, C)"
   ]
  },
  {
   "cell_type": "markdown",
   "id": "b41fb387-5fe0-42a3-8c5c-0027ec0a76b1",
   "metadata": {},
   "source": [
    "## Learn Data Structure by Building the Merge Short Algorithm"
   ]
  },
  {
   "cell_type": "code",
   "execution_count": 5,
   "id": "4bf45371-1d6c-4ef4-9ecb-f8ee1720ad2c",
   "metadata": {},
   "outputs": [],
   "source": [
    "def merge_sort(array):\n",
    "    if len(array) <= 1:\n",
    "        return\n",
    "    \n",
    "    middle_point = len(array) // 2\n",
    "    left_part = array[:middle_point]\n",
    "    right_part = array[middle_point:]\n",
    "\n",
    "    merge_sort(left_part)\n",
    "    merge_sort(right_part)\n",
    "\n",
    "    left_array_index = 0\n",
    "    right_array_index = 0\n",
    "    sorted_index = 0\n",
    "\n",
    "    while left_array_index < len(left_part) and right_array_index < len(right_part):\n",
    "        if left_part[left_array_index] < right_part[right_array_index]:\n",
    "            array[sorted_index] = left_part[left_array_index]\n",
    "            left_array_index += 1\n",
    "        else:\n",
    "            array[sorted_index] = right_part[right_array_index]\n",
    "            right_array_index += 1\n",
    "        sorted_index += 1\n",
    "\n",
    "    while left_array_index < len(left_part):\n",
    "        array[sorted_index] = left_part[left_array_index]\n",
    "        left_array_index += 1\n",
    "        sorted_index += 1\n",
    "    \n",
    "    while right_array_index < len(right_part):\n",
    "        array[sorted_index] = right_part[right_array_index]\n",
    "        right_array_index += 1\n",
    "        sorted_index += 1"
   ]
  },
  {
   "cell_type": "code",
   "execution_count": 6,
   "id": "f17654b5-0e91-4474-8476-2ec15819736b",
   "metadata": {},
   "outputs": [
    {
     "name": "stdout",
     "output_type": "stream",
     "text": [
      "Unsorted array: \n",
      "[4, 10, 6, 14, 2, 1, 8, 5]\n",
      "Sorted array: [1, 2, 4, 5, 6, 8, 10, 14]\n"
     ]
    }
   ],
   "source": [
    "if __name__ == '__main__':\n",
    "    numbers = [4, 10, 6, 14, 2, 1, 8, 5]\n",
    "    print('Unsorted array: ')\n",
    "    print(numbers)\n",
    "    merge_sort(numbers)\n",
    "    print('Sorted array: ' + str(numbers))"
   ]
  }
 ],
 "metadata": {
  "kernelspec": {
   "display_name": "Python 3 (ipykernel)",
   "language": "python",
   "name": "python3"
  },
  "language_info": {
   "codemirror_mode": {
    "name": "ipython",
    "version": 3
   },
   "file_extension": ".py",
   "mimetype": "text/x-python",
   "name": "python",
   "nbconvert_exporter": "python",
   "pygments_lexer": "ipython3",
   "version": "3.11.0"
  }
 },
 "nbformat": 4,
 "nbformat_minor": 5
}
